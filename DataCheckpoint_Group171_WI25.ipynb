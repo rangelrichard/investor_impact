{
 "cells": [
  {
   "cell_type": "markdown",
   "metadata": {},
   "source": [
    "**If you lost points on the last checkpoint you can get them back by responding to TA/IA feedback**  \n",
    "\n",
    "Update/change the relevant sections where you lost those points, make sure you respond on GitHub Issues to your TA/IA to call their attention to the changes you made here.\n",
    "\n",
    "Please update your Timeline... no battle plan survives contact with the enemy, so make sure we understand how your plans have changed."
   ]
  },
  {
   "cell_type": "markdown",
   "metadata": {},
   "source": [
    "# COGS 108 - Data Checkpoint"
   ]
  },
  {
   "cell_type": "markdown",
   "metadata": {},
   "source": [
    "# Names\n",
    "\n",
    "- Peng Yutong\n",
    "- Richard Rangel\n",
    "- Muhammad Omer\n",
    "- Matthew Palmer\n",
    "- Shijun Li"
   ]
  },
  {
   "cell_type": "markdown",
   "metadata": {},
   "source": [
    "## Research Question\n",
    "*\"How does investor activity in San Diego’s housing market correlate with housing price movements at the zip code level, and do areas with higher investor activity experience faster price appreciation than those with lower investor activity?\"*\n",
    "\n",
    "---\n",
    "\n",
    "## Background and Prior Work \n",
    "The San Diego housing market has undergone significant transformations in recent years, with investors playing an increasingly prominent role. Traditional economic indicators such as employment rates, interest rates, and median household income have historically been reliable predictors of housing market movements. However, the growing presence of investors has introduced new dynamics that may affect market behavior in ways not fully captured by conventional metrics.\n",
    "\n",
    "Recent analysis by Redfin (2024) highlights the substantial impact of investor activity in San Diego's housing market. Their research indicates that in the second quarter of 2024, investors purchased 23.7% of homes sold in San Diego, positioning the city as the second-highest in the U.S. for investor home purchases, following Miami at 28.5%. This level of investor activity represents a significant portion of market transactions and potentially influences local market dynamics. The study provides crucial baseline data about investor purchase volumes but leaves open questions about the relationship between investor activity and price movements at the zip code level.[1]\n",
    "\n",
    "The impact of investors on local housing markets extends beyond simple purchase statistics. As reported by CBS 8 San Diego (2024), local officials and real estate experts have expressed both concern and optimism about investor activity in the market. While increased investor presence may signal long-term market strength, it also raises concerns about competition with first-time homebuyers and potential market distortions. San Diego County Supervisor Terra Lawson-Remer has highlighted the important distinction between local \"mom-and-pop\" landlords and large institutional investors, noting that the latter may have different impacts on community stability and housing affordability.[2]\n",
    "\n",
    "This research aims to build upon these findings by examining the specific relationship between investor activity and housing price movements at the zip code level, providing a more granular understanding of how different types of investor activity correlate with local market dynamics. By analyzing rates of change between investor purchase percentages and home purchase prices by zip code, we can better understand whether areas with higher investment activity experience accelerated price appreciation compared to areas with less investor presence.\n",
    "\n",
    "References:\n",
    "\n",
    "[1] Chen, S. (2024). \"Investor Home Purchases Post Biggest Increase in Two Years.\" Redfin News. https://www.redfin.com/news/investor-home-purchases-q2-2024/\n",
    "\n",
    "[2] Perez, E. (2024). \"Study: San Diego is #2 in U.S. for homes bought by investors.\" CBS 8 San Diego. https://www.cbs8.com/article/news/local/san-diego-top-for-homes-bought-by-investors/509-759b8e51-fafb-41f7-aced-e89da57670d1\n",
    "\n",
    "---\n",
    "\n",
    "## Hypothesis\n",
    "We predict that zip codes with high institutional investor activity will show housing price movements that deviate significantly from what traditional economic indicators would suggest. Furthermore, we expect that ensemble methods combining both institutional investor metrics and traditional economic indicators will provide more accurate predictions of housing market movements than either set of metrics alone.\n",
    "\n",
    "---\n"
   ]
  },
  {
   "cell_type": "markdown",
   "metadata": {},
   "source": [
    "# Data"
   ]
  },
  {
   "cell_type": "markdown",
   "metadata": {},
   "source": [
    "## Data overview\n",
    "\n",
    "For each dataset include the following information\n",
    "- Dataset #1\n",
    "  - Dataset Name:\n",
    "  - Link to the dataset:\n",
    "  - Number of observations:\n",
    "  - Number of variables:\n",
    "- Dataset #2 (if you have more than one!)\n",
    "  - Dataset Name:\n",
    "  - Link to the dataset:\n",
    "  - Number of observations:\n",
    "  - Number of variables:\n",
    "- etc\n",
    "\n",
    "Now write 2 - 5 sentences describing each dataset here. Include a short description of the important variables in the dataset; what the metrics and datatypes are, what concepts they may be proxies for. Include information about how you would need to wrangle/clean/preprocess the dataset\n",
    "\n",
    "If you plan to use multiple datasets, add a few sentences about how you plan to combine these datasets."
   ]
  },
  {
   "cell_type": "markdown",
   "metadata": {},
   "source": [
    "## Dataset #1 (use name instead of number here)"
   ]
  },
  {
   "cell_type": "code",
   "execution_count": null,
   "metadata": {},
   "outputs": [],
   "source": [
    "## YOUR CODE TO LOAD/CLEAN/TIDY/WRANGLE THE DATA GOES HERE\n",
    "## FEEL FREE TO ADD MULTIPLE CELLS PER SECTION "
   ]
  },
  {
   "cell_type": "markdown",
   "metadata": {},
   "source": [
    "## Dataset #2 (if you have more than one, use name instead of number here)"
   ]
  },
  {
   "cell_type": "code",
   "execution_count": null,
   "metadata": {},
   "outputs": [],
   "source": [
    "## YOUR CODE TO LOAD/CLEAN/TIDY/WRANGLE THE DATA GOES HERE\n",
    "## FEEL FREE TO ADD MULTIPLE CELLS PER SECTION "
   ]
  },
  {
   "cell_type": "markdown",
   "metadata": {},
   "source": [
    "\n",
    "## Data\n",
    "\n",
    "### Variables to be Measured:\n",
    "- Monthly housing price indices by zip code\n",
    "- Institutional investor purchase volumes and total transaction values\n",
    "- Property types acquired by investors\n",
    "- Investor hold periods and exit strategies\n",
    "- Traditional economic indicators (unemployment rates, median income, interest rates)\n",
    "- Local demographic data\n",
    "- Building permits and new construction data\n",
    "- Rental market metrics\n",
    "\n",
    "### Potential Data Sources:\n",
    "- **San Diego County Assessor's Office** (property transactions)\n",
    "- **U.S. Bureau of Labor Statistics** (economic indicators)\n",
    "- **Federal Reserve Economic Data (FRED)**\n",
    "- **CoreLogic or Zillow** (housing price data)\n",
    "- **SEC filings for publicly traded institutional investors**\n",
    "- **San Diego Association of Governments (SANDAG)** (demographic data)\n",
    "\n",
    "\n",
    "---\n",
    "\n",
    "## Ethics & Privacy\n",
    "- **Data Privacy & Restriction** \n",
    "\n",
    "    Data privacy concerns exist regarding property transaction records and demographic information. While most of this data is publicly available, we must ensure our analysis doesn't inadvertently reveal personally identifiable information about individual property owners or tenants. We will aggregate data at the zip code level to maintain privacy. And for those datasets without zip code, we would assign them based on the region or new index to avoid use of any personal information. Besides that, most public datasets have their own restriction policy. For example, Zillow’s market data is available for public viewing but cannot be scraped, stored, or republished without permission. Therefore, ensuring data sets that been used are authorized is another priority.\n",
    "\n",
    "- **Bias in Data Collection & Representation**  \n",
    "\n",
    "    There are potential biases in our dataset that need to be acknowledged and addressed. Institutional investor activity may be underreported in certain areas, and some demographic groups might be disproportionately affected by investor activity. We will use  proxy variables within the Zillow  dataset to identify underreported areas. For example, If race data is missing, use income or education levels as proxies for socioeconomic status and further check with assumption Are high-income ZIP codes in the dataset disproportionately White? within the dataset. we would also analyze the trends over time within the dataset, A sudden drop in a specific region could indicate underreport area.\n",
    "\n",
    "- **Detection and Mitigation of Bias** \n",
    "\n",
    "    Exploratory Data Analysis (EDA) will be conducted to examine demographic distributions and missing data patterns. If biases are detected, adjustments such as re-weighting or stratified sampling will be applied.For example, if gaps exceed 5% absolute difference from Census demographics, methods would be apply to restore the balance.\n",
    "\n",
    "- **Post-Analysis Considerations** \n",
    "    \n",
    "    The findings of this research could have implications for housing policy and community development. We must be transparent about our methodology and careful not to draw causative conclusions where only correlative relationships exist. We will also consider the potential impact of our findings on various stakeholders, including local residents, policymakers, and market participants.\n",
    "\n",
    "- **Impact on the Market & Community** \n",
    "\n",
    "    As mentioned above, since we have to keep our research transparent, we are aware that revealing areas with high investor activity can unintentionally provide insights for all kinds of market participants, which can further exacerbate affordability problems. If investors significantly raise affordability, this could lead to more displacement in lower-income neighborhoods. In order to minimize such a problem, we would hope to share findings with all stakeholders including members of the community with a vested interest in housing equity.\n",
    "\n",
    "\n",
    "---\n",
    "\n",
    "## Team Expectations\n",
    "- Group Chat is our main form of communication, Discord as data sharing\n",
    "- Polite and blunt communication.\n",
    "- For decision making, we decided on majority agreement, if someone passed the response time, the majority available will make the decision.\n",
    "- People volunteer for tasks as they become known during meetings, credit will be given accordingly.\n",
    "- Future deadline will be discussed during meetings.\n",
    "- Zoom meetings every Sunday, in person every other week.\n",
    "- If someone is struggling it is preferred they mention it at least 3 days before deadline, so that others can help them.\n",
    "\n",
    "\n",
    "---\n",
    "\n",
    "## Project Timeline Proposal\n",
    "| Meeting Date | Meeting Time | Completed Before Meeting | Discuss at Meeting |\n",
    "|-------------|-------------|------------------------|--------------------|\n",
    "| 1/20  |  1 PM | Read & Think about COGS 108 expectations; brainstorm topics/questions  | Determine best form of communication; Discuss and decide on final project topic; discuss hypothesis; begin background research | \n",
    "| 1/26  |  10 AM |  Do background research on topic | Discuss ideal datasets and ethics; draft project proposal | \n",
    "| 2/1 | 11:30 AM | Zoom meeting, ice breaker. Previous Project Review. | Briefly discussed our project’s topic. Collaborated on reviewing the previous projects |\n",
    "| 2/5 | 3 PM | Read & Think about COGS 108 expectations; brainstorm topics/questions | Further discussed our project idea. Making adjustments, making group policies. |\n",
    "| 2/8 | 1 PM | Shijun Li came up with some great project topic ideas and hypotheses, however, we need further discussion | Came up with new project ideas. |\n",
    "| 2/9 | 3:50 PM | For our project proposal Richard decided to do the Background, Hypothesis, and ethical problems. Peng decided to edit and work further on ethics & privacy problems and the time line proposal. | More details about who is working on each section of the project proposal. |\n",
    "| 2/9 | 7 PM | Phone call and group chat discussion, talked more about the Project Proposal on github, and the future workload prediction/distribution | Discuss/edit Analysis; Complete the the final proposal|\n",
    "| 2/14  | 6 PM  | Import & Wrangle Data; EDA | Review/Edit wrangling/EDA; Discuss Analysis Plan   |\n",
    "| 2/23  | 12 PM  | Finalize wrangling/EDA; Begin Analysis | Discuss/edit Analysis; Complete project check-in |\n",
    "| 3/9 | 11:59 PM | Checkpoint #2: EDA*| complete project check-in|\n",
    "| 3/13  | 12 PM  | Complete analysis; Draft results/conclusion/discussion| Discuss/edit full project |\n",
    "| 3/19 | 11:59 PM | Final report & video*, Team eval survey, post-course survey||\n",
    "| 3/20  | Before 11:59 PM  | NA | Turn in Final Project & Group Project Surveys |"



    "## Project Timeline Proposal(test)\n",
    "| Meeting Date | Meeting Time | Completed Before Meeting | Discuss at Meeting |\n",
    "|-------------|-------------|------------------------|--------------------|\n",
    "| 1/20 | 1 PM | Read & Think about COGS 108 expectations; brainstorm topics/questions | Determine best form of communication; Discuss and decide on final project topic; discuss hypothesis; begin background research | \n",
    "| 1/26 | 10 AM | Do background research on topic | Discuss ideal datasets and ethics; draft project proposal | \n",
    "| 2/1 | 11:30 AM | Zoom meeting, ice breaker. Previous Project Review. | Briefly discussed our project’s topic. Collaborated on reviewing the previous projects |\n",
    "| 2/5 | 3 PM | Read & Think about COGS 108 expectations; brainstorm topics/questions | Further discussed our project idea. Making adjustments, making group policies. |\n",
    "| 2/8 | 1 PM | Shijun Li came up with some great project topic ideas and hypotheses, however, we need further discussion | Came up with new project ideas. |\n",
    "| 2/9 | 3:50 PM | For our project proposal Richard decided to do the Background, Hypothesis, and ethical problems. Peng decided to edit and work further on ethics & privacy problems and the time line proposal. | More details about who is working on each section of the project proposal. |\n",
    "| 2/9 | 7 PM | Phone call and group chat discussion, talked more about the Project Proposal on github, and the future workload prediction/distribution | Discuss/edit Analysis; Complete the the final proposal |\n",
    "| 2/14 | 6 PM | Import & Wrangle Data; EDA | Review/Edit wrangling/EDA; Discuss Analysis Plan   |\n",
    "| 2/23 | 12 PM | Finalize wrangling/EDA; Begin Analysis | Discuss/edit Analysis; Complete project check-in |\n",
    "| 2/23-28 | TBD | Look over the next checkpoint format | Discuss next checkpoint and project direction, assign tasks and set expectations for task quality, determine if further research is needed to better understand research topic |\n",
    "| 3/6 | TBD | Nearly complete or complete assigned tasks, reach out to each other about difficult tasks | Check in to verify progress, begin the final sprint on difficult or frusterating tasks, verify that everyone who has not reached out has confidence in completing their tasks |\n",
    "| 3/8 | TBD | Have everything completed or easily completable with the day | Begin working on anything that is not finished, reguardless of who was assigned tasks, take note of what did or did not work to revise going forward |\n",
    "| 3/9 | 11:59 PM | Checkpoint #2: EDA*| complete project check-in|\n",
    "| 3/13 | 12 PM  | Complete analysis; Draft results/conclusion/discussion| Discuss/edit full project |\n",
    "| 3/16 | TBD | Bring all required work to completion or near completion | Checkup to determine what still needs to be completed and if the people assigned to it have confidence in completing it alone |n\",
    "| 3/18 | TBD | Complete all possible tasks, review to ensure all added work is cohesive | Finish work on anything that still needs completion, reguardless of who task was assigned to. Perform the final review on project to ensure quality |n\",
    "| 3/19 | 11:59 PM | Final report & video*, Team eval survey, post-course survey|\n",
    "| 3/19 | 11:59 PM | Final report & video*, Team eval survey, post-course survey||\n",
    "| 3/20  | Before 11:59 PM  | NA | Turn in Final Project & Group Project Surveys |\n"
    "\n"
   ]
  }
 ],
 "metadata": {
  "kernelspec": {
   "display_name": "Python 3 (ipykernel)",
   "language": "python",
   "name": "python3"
  },
  "language_info": {
   "codemirror_mode": {
    "name": "ipython",
    "version": 3
   },
   "file_extension": ".py",
   "mimetype": "text/x-python",
   "name": "python",
   "nbconvert_exporter": "python",
   "pygments_lexer": "ipython3",
   "version": "3.9.7"
  }
 },
 "nbformat": 4,
 "nbformat_minor": 2
}
