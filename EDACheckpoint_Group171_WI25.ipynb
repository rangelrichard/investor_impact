{
 "cells": [
  {
   "cell_type": "markdown",
   "metadata": {},
   "source": [
    "**If you lost points on the last checkpoint you can get them back by responding to TA/IA feedback**  \n",
    "\n",
    "Update/change the relevant sections where you lost those points, make sure you respond on GitHub Issues to your TA/IA to call their attention to the changes you made here.\n",
    "\n",
    "Please update your Timeline... no battle plan survives contact with the enemy, so make sure we understand how your plans have changed."
   ]
  },
  {
   "cell_type": "markdown",
   "metadata": {},
   "source": [
    "# COGS 108 - EDA Checkpoint"
   ]
  },
  {
   "cell_type": "markdown",
   "metadata": {},
   "source": [
    "## Names\n",
    "\n",
    "- Peng Yuntong\n",
    "- Richard Rangel\n",
    "- Muhammad Omer\n",
    "- Matthew Palmer\n",
    "- Shijun Li"
   ]
  },
  {
   "cell_type": "markdown",
   "metadata": {},
   "source": [
    "## Research Question"
   ]
  },
  {
   "cell_type": "markdown",
   "metadata": {},
   "source": [
    "*\"Using a weighted average model, (utilizing specifically, median income trends, and median sales trends), how does investor activity in San Diego’s housing market correlate with housing price movements at the zip code level, and do areas with higher investor activity (measured by an increase in purchases by known institutional investors) experience faster price appreciation than those with lower investor activity?\"*\n",
    "\n",
    "---\n",
    "\n"
   ]
  },
  {
   "cell_type": "markdown",
   "metadata": {},
   "source": [
    "## Background and Prior Work"
   ]
  },
  {
   "cell_type": "markdown",
   "metadata": {},
   "source": [
    "The San Diego housing market has undergone significant transformations in recent years, with investors playing an increasingly prominent role. Traditional economic indicators such as employment rates, interest rates, and median household income have historically been reliable predictors of housing market movements. However, the growing presence of investors has introduced new dynamics that may affect market behavior in ways not fully captured by conventional metrics.\n",
    "\n",
    "Recent analysis by Redfin (2024) highlights the substantial impact of investor activity in San Diego's housing market. Their research indicates that in the second quarter of 2024, investors purchased 23.7% of homes sold in San Diego, positioning the city as the second-highest in the U.S. for investor home purchases, following Miami at 28.5%. This level of investor activity represents a significant portion of market transactions and potentially influences local market dynamics. The study provides crucial baseline data about investor purchase volumes but leaves open questions about the relationship between investor activity and price movements at the zip code level.[1]\n",
    "\n",
    "The impact of investors on local housing markets extends beyond simple purchase statistics. As reported by CBS 8 San Diego (2024), local officials and real estate experts have expressed both concern and optimism about investor activity in the market. While increased investor presence may signal long-term market strength, it also raises concerns about competition with first-time homebuyers and potential market distortions. San Diego County Supervisor Terra Lawson-Remer has highlighted the important distinction between local \"mom-and-pop\" landlords and large institutional investors, noting that the latter may have different impacts on community stability and housing affordability.[2]\n",
    "\n",
    "This research aims to build upon these findings by examining the specific relationship between investor activity and housing price movements at the zip code level, providing a more granular understanding of how different types of investor activity correlate with local market dynamics. By analyzing rates of change between investor purchase percentages and home purchase prices by zip code, we can better understand whether areas with higher investment activity experience accelerated price appreciation compared to areas with less investor presence.\n",
    "\n",
    "References:\n",
    "\n",
    "[1] Chen, S. (2024). \"Investor Home Purchases Post Biggest Increase in Two Years.\" Redfin News. https://www.redfin.com/news/investor-home-purchases-q2-2024/\n",
    "\n",
    "[2] Perez, E. (2024). \"Study: San Diego is #2 in U.S. for homes bought by investors.\" CBS 8 San Diego. https://www.cbs8.com/article/news/local/san-diego-top-for-homes-bought-by-investors/509-759b8e51-fafb-41f7-aced-e89da57670d1\n",
    "\n",
    "---\n"
   ]
  },
  {
   "cell_type": "markdown",
   "metadata": {},
   "source": [
    "## Hypothesis\n"
   ]
  },
  {
   "cell_type": "markdown",
   "metadata": {},
   "source": [
    "We predict that zip codes with higher investor activity (measured by the percentage of home purchases made by institutional investors) will experience faster home price appreciation than zip codes with lower investor activity. Additionally, we expect that this correlation will be stronger in lower-income areas, where investors may have a larger influence on housing supply and affordability.\n",
    "\n",
    "---"
   ]
  },
  {
   "cell_type": "markdown",
   "metadata": {},
   "source": [
    "## Data"
   ]
  },
  {
   "cell_type": "markdown",
   "metadata": {},
   "source": [
    "### Data overview\n",
    "\n",
    "- Dataset #1\n",
    "  - Dataset Name: Redfin Investor Activity in San Diego\n",
    "  - Link to the dataset: https://www.redfin.com/news/data-center/investor-data/   (Can download the data by selecting 'Download Data' column, select investor market share by zip code and choose San Diego CA in Redfin Metro)\n",
    "  - Number of observations: 101\n",
    "  - Number of variables: 5 \n",
    "  This dataset contains zip code-level investor activity in the San Diego housing market. In this data table, \"Zip Code\" identifying the location, \"Share of Sales\" representing the proportion of total home sales attributed to investors, \"Investor Purchases\" showing the number of homes bought by investors, and \"All Home Sales\" showing the total number of homes sold in each zip code. These variables serve as representing for investor influence in the housing market. The dataset will require data type conversions(such as drop% and convert to float), and possibly calculate standardizing numerical values for analysis.\n",
    "- Dataset #2 \n",
    "  - Dataset Name: Zillow Home Value Index (Zillow ZHVI)\n",
    "  - Link to the dataset: https://www.zillow.com/research/data/ (Can downoad the data from the 'Home Values' Section, default data type, geography by zip code)\n",
    "  - Number of observations: 26323 \n",
    "  - Number of variables: 357\n",
    "  This dataset tracks monthly median home values at the zip code level from 1996 to 2024, providing a historical perspective on housing price trends. In this data table \"RegionName\" (zip code), \"CountyName\" (San Diego County), and a series of columns with typical home values over time (floats). The dataset serves as a representing for market appreciation and affordability trends. Preprocessing steps include filtering for San Diego zip codes, reshaping data from wide to long format if there are similar zip code, converting date columns, and handling missing or erroneous values.\n",
    "- Combining the Datasets\n",
    "  - To analyze the relationship between investor activity and price trends, the datasets will be merged on zip codes. The Redfin dataset provides investor activity, while the Zillow dataset tracks price trends over time. The combined dataset will allow us to examine whether zip codes with higher investor activity experience faster price appreciation, using statistical correlation to check if there is a strong connection between investor activity and price changes. And regression models to measure how much investor activity actually affects home prices, while also considering other factors like overall market trends. \n",
    "  - Drawback: The redfin data by zipcode doesn't record the date(year, month, etc), but the website clarified the data were recorded from 2000, and according to the Investor Market Share by Metro, the latest date recorded is 2024 Q3. Our team will assume it represent investor activity from 2000 to 2024. We will match it with the Zillow's date after we filter it. Even though investor activity may have changed over time, this approach will still help us see whether areas with more investor purchases tend to have faster home price growth compared to other areas."
   ]
  },
  {
   "cell_type": "markdown",
   "metadata": {},
   "source": [
    "## Dataset #1 (use name instead of number here)"
   ]
  },
  {
   "cell_type": "code",
   "execution_count": null,
   "metadata": {},
   "outputs": [],
   "source": [
    "## YOUR CODE TO LOAD/CLEAN/TIDY/WRANGLE THE DATA GOES HERE\n",
    "## FEEL FREE TO ADD MULTIPLE CELLS PER SECTION"
   ]
  },
  {
   "cell_type": "markdown",
   "metadata": {},
   "source": [
    "## Dataset #2 (if you have more than one, use name instead of number here)"
   ]
  },
  {
   "cell_type": "code",
   "execution_count": null,
   "metadata": {},
   "outputs": [],
   "source": [
    "## YOUR CODE TO LOAD/CLEAN/TIDY/WRANGLE THE DATA GOES HERE\n",
    "## FEEL FREE TO ADD MULTIPLE CELLS PER SECTION "
   ]
  },
  {
   "cell_type": "markdown",
   "metadata": {},
   "source": [
    "## Results\n",
    "\n",
    "## Exploratory Data Analysis\n",
    "\n",
    "Carry out whatever EDA you need to for your project.  Because every project will be different we can't really give you much of a template at this point. But please make sure you describe the what and why in text here as well as providing interpretation of results and context."
   ]
  },
  {
   "cell_type": "markdown",
   "metadata": {},
   "source": [
    "### Section 1 of EDA - please give it a better title than this\n",
    "\n",
    "Some more words and stuff.  Remember notebooks work best if you interleave the code that generates a result with properly annotate figures and text that puts these results into context."
   ]
  },
  {
   "cell_type": "code",
   "execution_count": null,
   "metadata": {},
   "outputs": [],
   "source": [
    "## YOUR CODE HERE\n",
    "## FEEL FREE TO ADD MULTIPLE CELLS PER SECTION"
   ]
  },
  {
   "cell_type": "markdown",
   "metadata": {},
   "source": [
    "### Section 2 of EDA if you need it  - please give it a better title than this\n",
    "\n",
    "Some more words and stuff.  Remember notebooks work best if you interleave the code that generates a result with properly annotate figures and text that puts these results into context."
   ]
  },
  {
   "cell_type": "code",
   "execution_count": null,
   "metadata": {},
   "outputs": [],
   "source": [
    "## YOUR CODE HERE\n",
    "## FEEL FREE TO ADD MULTIPLE CELLS PER SECTION"
   ]
  },
  {
   "cell_type": "markdown",
   "metadata": {},
   "source": [
    "## Ethics & Privacy"
   ]
  },
  {
   "cell_type": "markdown",
   "metadata": {},
   "source": [
    "- **Data Privacy & Restriction** \n",
    "\n",
    "    Data privacy concerns exist regarding property transaction records and demographic information. While most of this data is publicly available, we must ensure our analysis doesn't inadvertently reveal personally identifiable information about individual property owners or tenants. We will aggregate data at the zip code level to maintain privacy. And for those datasets without zip code, we would assign them based on the region or new index to avoid use of any personal information. Besides that, most public datasets have their own restriction policy. For example, Zillow’s market data is available for public viewing but cannot be scraped, stored, or republished without permission. Therefore, ensuring data sets that been used are authorized is another priority.\n",
    "\n",
    "- **Bias in Data Collection & Representation**  \n",
    "\n",
    "    Our dataset may contain biases that need to be identified and addressed. Certain areas or groups may be underrepresented due to limitations in data collection, institutional investor activity, or other factors. To detect underreporting, we will analyze patterns within the dataset and use proxy variables where appropriate, ensuring they are validated against external benchmarks. Additionally, we will assess whether ZIP code-level aggregation introduces any biases and adjust our methodology if needed. \n",
    "\n",
    "- **Detection and Mitigation of Bias** \n",
    "\n",
    "   As part of the Exploratory Data Analysis (EDA), we will evaluate demographic distributions and identify patterns of missing data. If the proportion of a demographic group in our dataset deviates by more than 5 percentage points from Census data, we will compare these distributions to assess potential biases. If significant discrepancies are found, we will document these limitations and discuss their possible impact on our findings rather than making adjustments that could introduce additional biases.\n",
    "\n",
    "- **Post-Analysis Considerations** \n",
    "    \n",
    "    The findings of this research could have implications for housing policy and community development. We must be transparent about our methodology and careful not to draw causative conclusions where only correlative relationships exist. \n",
    "\n",
    "    To address this concern and account for potential confounding variables while avoiding overgeneralization, we aim to explore robustness checks by considering additional socioeconomic factors (e.g., median income, employment rates, interest rates) where data allows. While our research explores vulnerabilities in the housing market, we also plan to contextualize results at a systemic level rather than isolating specific neighborhoods to ensure responsible analysis. We also acknowledge potential limitations, such as data gaps and the predetermined classification of investor activity in our dataset, which may impact how nuanced our findings can be. These limitations will be discussed in our final analysis.\n",
    "\n",
    "- **Impact on the Market & Community** \n",
    "\n",
    "    As mentioned above, since we have to keep our research transparent, we are aware that revealing areas with high investor activity can unintentionally provide insights for all kinds of market participants, which can further exacerbate affordability problems. If investors significantly raise affordability, this could lead to more displacement in lower-income neighborhoods. In order to minimize such a problem, we would hope to share findings with all stakeholders including members of the community with a vested interest in housing equity.\n",
    "\n",
    "\n",
    "---"
   ]
  },
  {
   "cell_type": "markdown",
   "metadata": {},
   "source": [
    "## Team Expectations "
   ]
  },
  {
   "cell_type": "markdown",
   "metadata": {},
   "source": [
    "- Group Chat is our main form of communication, Discord as data sharing\n",
    "- Polite and blunt communication.\n",
    "- For decision making, we decided on majority agreement, if someone passed the response time, the majority available will make the decision.\n",
    "- People volunteer for tasks as they become known during meetings, credit will be given accordingly.\n",
    "- Future deadline will be discussed during meetings.\n",
    "- Zoom meetings every Sunday, in person every other week.\n",
    "- If someone is struggling it is preferred they mention it at least 3 days before deadline, so that others can help them.\n",
    "\n",
    "---"
   ]
  },
  {
   "cell_type": "markdown",
   "metadata": {},
   "source": [
    "## Project Timeline Proposal"
   ]
  },
  {
   "cell_type": "markdown",
   "metadata": {},
   "source": [
    "| Meeting Date | Meeting Time | Completed Before Meeting | Discuss at Meeting |\n",
    "|-------------|-------------|------------------------|--------------------|\n",
    "| 1/20  |  1 PM | Read & Think about COGS 108 expectations; brainstorm topics/questions  | Determine best form of communication; Discuss and decide on final project topic; discuss hypothesis; begin background research | \n",
    "| 1/26  |  10 AM |  Do background research on topic | Discuss ideal datasets and ethics; draft project proposal | \n",
    "| 2/1 | 11:30 AM | Zoom meeting, ice breaker. Previous Project Review. | Briefly discussed our project’s topic. Collaborated on reviewing the previous projects |\n",
    "| 2/5 | 3 PM | Read & Think about COGS 108 expectations; brainstorm topics/questions | Further discussed our project idea. Making adjustments, making group policies. |\n",
    "| 2/8 | 1 PM | Shijun Li came up with some great project topic ideas and hypotheses, however, we need further discussion | Came up with new project ideas. |\n",
    "| 2/9 | 3:50 PM | For our project proposal Richard decided to do the Background, Hypothesis, and ethical problems. Peng decided to edit and work further on ethics & privacy problems and the time line proposal. | More details about who is working on each section of the project proposal. |\n",
    "| 2/9 | 7 PM | Phone call and group chat discussion, talked more about the Project Proposal on github, and the future workload prediction/distribution | Discuss/edit Analysis; Complete the the final proposal|\n",
    "| 2/14  | 6 PM  | Import & Wrangle Data; EDA | Review/Edit wrangling/EDA; Discuss Analysis Plan   |\n",
    "| 2/23  | 12 PM  | Finalize wrangling/EDA; Begin Analysis | Discuss/edit Analysis; Complete project check-in |\n",
    "| 2/23-28 | TBD | Look over the next checkpoint format | Discuss next checkpoint and project direction, assign tasks and set expectations for task quality, determine if further research is needed to better understand research topic |\n",
    "| 3/6 | TBD | Nearly complete or complete assigned tasks, reach out to each other about difficult tasks | Check in to verify progress, begin the final sprint on difficult or frusterating tasks, verify that everyone who has not reached out has confidence in completing their tasks |\n",
    "| 3/8 | TBD | Have everything completed or easily completable with the day | Begin working on anything that is not finished, reguardless of who was assigned tasks, take note of what did or did not work to revise going forward |\n",
    "| 3/9 | 11:59 PM | Checkpoint #2: EDA*| complete project check-in|\n",
    "| 3/13  | 12 PM  | Complete analysis; Draft results/conclusion/discussion| Discuss/edit full project |\n",
    "| 3/16 | TBD | Bring all required work to completion or near completion | Checkup to determine what still needs to be completed and if the people assigned to it have confidence in completing it alone |\n",
    "| 3/18 | TBD | Complete all possible tasks, review to ensure all added work is cohesive | Finish work on anything that still needs completion, reguardless of who task was assigned to. Perform a final review on project to ensure quality |\n",
    "| 3/19 | 11:59 PM | Final report & video*, Team eval survey, post-course survey||\n",
    "| 3/20  | Before 11:59 PM  | NA | Turn in Final Project & Group Project Surveys |"
   ]
  }
 ],
 "metadata": {
  "kernelspec": {
   "display_name": "Python 3 (ipykernel)",
   "language": "python",
   "name": "python3"
  },
  "language_info": {
   "codemirror_mode": {
    "name": "ipython",
    "version": 3
   },
   "file_extension": ".py",
   "mimetype": "text/x-python",
   "name": "python",
   "nbconvert_exporter": "python",
   "pygments_lexer": "ipython3",
   "version": "3.9.7"
  }
 },
 "nbformat": 4,
 "nbformat_minor": 2
}
